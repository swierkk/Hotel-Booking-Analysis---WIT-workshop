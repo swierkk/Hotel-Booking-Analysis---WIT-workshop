{
 "cells": [
  {
   "cell_type": "code",
   "execution_count": 69,
   "metadata": {},
   "outputs": [],
   "source": [
    "import numpy as np\n",
    "import pandas as pd\n",
    "import seaborn as sns\n",
    "import matplotlib.pyplot as plt\n"
   ]
  },
  {
   "cell_type": "code",
   "execution_count": 70,
   "metadata": {},
   "outputs": [],
   "source": [
    "#read the data:\n",
    "data = pd.read_csv('Hotel_bookings.csv', sep=',')"
   ]
  },
  {
   "cell_type": "code",
   "execution_count": 71,
   "metadata": {},
   "outputs": [
    {
     "data": {
      "text/plain": [
       "Index(['hotel', 'is_canceled', 'lead_time', 'arrival_date_year',\n",
       "       'arrival_date_month', 'arrival_date_week_number',\n",
       "       'arrival_date_day_of_month', 'stays_in_weekend_nights',\n",
       "       'stays_in_week_nights', 'adults', 'children', 'babies', 'meal',\n",
       "       'country', 'market_segment', 'distribution_channel',\n",
       "       'is_repeated_guest', 'previous_cancellations',\n",
       "       'previous_bookings_not_canceled', 'reserved_room_type',\n",
       "       'assigned_room_type', 'booking_changes', 'deposit_type', 'agent',\n",
       "       'company', 'days_in_waiting_list', 'customer_type', 'adr',\n",
       "       'required_car_parking_spaces', 'total_of_special_requests',\n",
       "       'reservation_status', 'reservation_status_date'],\n",
       "      dtype='object')"
      ]
     },
     "execution_count": 71,
     "metadata": {},
     "output_type": "execute_result"
    }
   ],
   "source": [
    "#get some more insight into what data is available for analysis\n",
    "data.columns"
   ]
  },
  {
   "cell_type": "code",
   "execution_count": 72,
   "metadata": {
    "scrolled": true
   },
   "outputs": [
    {
     "data": {
      "text/html": [
       "<div>\n",
       "<style scoped>\n",
       "    .dataframe tbody tr th:only-of-type {\n",
       "        vertical-align: middle;\n",
       "    }\n",
       "\n",
       "    .dataframe tbody tr th {\n",
       "        vertical-align: top;\n",
       "    }\n",
       "\n",
       "    .dataframe thead th {\n",
       "        text-align: right;\n",
       "    }\n",
       "</style>\n",
       "<table border=\"1\" class=\"dataframe\">\n",
       "  <thead>\n",
       "    <tr style=\"text-align: right;\">\n",
       "      <th></th>\n",
       "      <th>hotel</th>\n",
       "      <th>is_canceled</th>\n",
       "      <th>lead_time</th>\n",
       "      <th>arrival_date_year</th>\n",
       "      <th>arrival_date_month</th>\n",
       "      <th>arrival_date_week_number</th>\n",
       "      <th>arrival_date_day_of_month</th>\n",
       "      <th>stays_in_weekend_nights</th>\n",
       "      <th>stays_in_week_nights</th>\n",
       "      <th>adults</th>\n",
       "      <th>...</th>\n",
       "      <th>deposit_type</th>\n",
       "      <th>agent</th>\n",
       "      <th>company</th>\n",
       "      <th>days_in_waiting_list</th>\n",
       "      <th>customer_type</th>\n",
       "      <th>adr</th>\n",
       "      <th>required_car_parking_spaces</th>\n",
       "      <th>total_of_special_requests</th>\n",
       "      <th>reservation_status</th>\n",
       "      <th>reservation_status_date</th>\n",
       "    </tr>\n",
       "  </thead>\n",
       "  <tbody>\n",
       "    <tr>\n",
       "      <th>0</th>\n",
       "      <td>Resort Hotel</td>\n",
       "      <td>0</td>\n",
       "      <td>342</td>\n",
       "      <td>2015</td>\n",
       "      <td>July</td>\n",
       "      <td>27</td>\n",
       "      <td>1</td>\n",
       "      <td>0</td>\n",
       "      <td>0</td>\n",
       "      <td>2</td>\n",
       "      <td>...</td>\n",
       "      <td>No Deposit</td>\n",
       "      <td>NaN</td>\n",
       "      <td>NaN</td>\n",
       "      <td>0</td>\n",
       "      <td>Transient</td>\n",
       "      <td>0.0</td>\n",
       "      <td>0</td>\n",
       "      <td>0</td>\n",
       "      <td>Check-Out</td>\n",
       "      <td>2015-07-01</td>\n",
       "    </tr>\n",
       "    <tr>\n",
       "      <th>1</th>\n",
       "      <td>Resort Hotel</td>\n",
       "      <td>0</td>\n",
       "      <td>737</td>\n",
       "      <td>2015</td>\n",
       "      <td>July</td>\n",
       "      <td>27</td>\n",
       "      <td>1</td>\n",
       "      <td>0</td>\n",
       "      <td>0</td>\n",
       "      <td>2</td>\n",
       "      <td>...</td>\n",
       "      <td>No Deposit</td>\n",
       "      <td>NaN</td>\n",
       "      <td>NaN</td>\n",
       "      <td>0</td>\n",
       "      <td>Transient</td>\n",
       "      <td>0.0</td>\n",
       "      <td>0</td>\n",
       "      <td>0</td>\n",
       "      <td>Check-Out</td>\n",
       "      <td>2015-07-01</td>\n",
       "    </tr>\n",
       "    <tr>\n",
       "      <th>2</th>\n",
       "      <td>Resort Hotel</td>\n",
       "      <td>0</td>\n",
       "      <td>7</td>\n",
       "      <td>2015</td>\n",
       "      <td>July</td>\n",
       "      <td>27</td>\n",
       "      <td>1</td>\n",
       "      <td>0</td>\n",
       "      <td>1</td>\n",
       "      <td>1</td>\n",
       "      <td>...</td>\n",
       "      <td>No Deposit</td>\n",
       "      <td>NaN</td>\n",
       "      <td>NaN</td>\n",
       "      <td>0</td>\n",
       "      <td>Transient</td>\n",
       "      <td>75.0</td>\n",
       "      <td>0</td>\n",
       "      <td>0</td>\n",
       "      <td>Check-Out</td>\n",
       "      <td>2015-07-02</td>\n",
       "    </tr>\n",
       "    <tr>\n",
       "      <th>3</th>\n",
       "      <td>Resort Hotel</td>\n",
       "      <td>0</td>\n",
       "      <td>13</td>\n",
       "      <td>2015</td>\n",
       "      <td>July</td>\n",
       "      <td>27</td>\n",
       "      <td>1</td>\n",
       "      <td>0</td>\n",
       "      <td>1</td>\n",
       "      <td>1</td>\n",
       "      <td>...</td>\n",
       "      <td>No Deposit</td>\n",
       "      <td>304.0</td>\n",
       "      <td>NaN</td>\n",
       "      <td>0</td>\n",
       "      <td>Transient</td>\n",
       "      <td>75.0</td>\n",
       "      <td>0</td>\n",
       "      <td>0</td>\n",
       "      <td>Check-Out</td>\n",
       "      <td>2015-07-02</td>\n",
       "    </tr>\n",
       "    <tr>\n",
       "      <th>4</th>\n",
       "      <td>Resort Hotel</td>\n",
       "      <td>0</td>\n",
       "      <td>14</td>\n",
       "      <td>2015</td>\n",
       "      <td>July</td>\n",
       "      <td>27</td>\n",
       "      <td>1</td>\n",
       "      <td>0</td>\n",
       "      <td>2</td>\n",
       "      <td>2</td>\n",
       "      <td>...</td>\n",
       "      <td>No Deposit</td>\n",
       "      <td>240.0</td>\n",
       "      <td>NaN</td>\n",
       "      <td>0</td>\n",
       "      <td>Transient</td>\n",
       "      <td>98.0</td>\n",
       "      <td>0</td>\n",
       "      <td>1</td>\n",
       "      <td>Check-Out</td>\n",
       "      <td>2015-07-03</td>\n",
       "    </tr>\n",
       "  </tbody>\n",
       "</table>\n",
       "<p>5 rows × 32 columns</p>\n",
       "</div>"
      ],
      "text/plain": [
       "          hotel  is_canceled  lead_time  arrival_date_year arrival_date_month  \\\n",
       "0  Resort Hotel            0        342               2015               July   \n",
       "1  Resort Hotel            0        737               2015               July   \n",
       "2  Resort Hotel            0          7               2015               July   \n",
       "3  Resort Hotel            0         13               2015               July   \n",
       "4  Resort Hotel            0         14               2015               July   \n",
       "\n",
       "   arrival_date_week_number  arrival_date_day_of_month  \\\n",
       "0                        27                          1   \n",
       "1                        27                          1   \n",
       "2                        27                          1   \n",
       "3                        27                          1   \n",
       "4                        27                          1   \n",
       "\n",
       "   stays_in_weekend_nights  stays_in_week_nights  adults  ...  deposit_type  \\\n",
       "0                        0                     0       2  ...    No Deposit   \n",
       "1                        0                     0       2  ...    No Deposit   \n",
       "2                        0                     1       1  ...    No Deposit   \n",
       "3                        0                     1       1  ...    No Deposit   \n",
       "4                        0                     2       2  ...    No Deposit   \n",
       "\n",
       "   agent company days_in_waiting_list customer_type   adr  \\\n",
       "0    NaN     NaN                    0     Transient   0.0   \n",
       "1    NaN     NaN                    0     Transient   0.0   \n",
       "2    NaN     NaN                    0     Transient  75.0   \n",
       "3  304.0     NaN                    0     Transient  75.0   \n",
       "4  240.0     NaN                    0     Transient  98.0   \n",
       "\n",
       "   required_car_parking_spaces  total_of_special_requests  reservation_status  \\\n",
       "0                            0                          0           Check-Out   \n",
       "1                            0                          0           Check-Out   \n",
       "2                            0                          0           Check-Out   \n",
       "3                            0                          0           Check-Out   \n",
       "4                            0                          1           Check-Out   \n",
       "\n",
       "  reservation_status_date  \n",
       "0              2015-07-01  \n",
       "1              2015-07-01  \n",
       "2              2015-07-02  \n",
       "3              2015-07-02  \n",
       "4              2015-07-03  \n",
       "\n",
       "[5 rows x 32 columns]"
      ]
     },
     "execution_count": 72,
     "metadata": {},
     "output_type": "execute_result"
    }
   ],
   "source": [
    "data.head()"
   ]
  },
  {
   "cell_type": "code",
   "execution_count": 73,
   "metadata": {},
   "outputs": [
    {
     "data": {
      "text/plain": [
       "array(['Resort Hotel', 'City Hotel'], dtype=object)"
      ]
     },
     "execution_count": 73,
     "metadata": {},
     "output_type": "execute_result"
    }
   ],
   "source": [
    "data['hotel'].unique()"
   ]
  },
  {
   "cell_type": "code",
   "execution_count": 74,
   "metadata": {},
   "outputs": [
    {
     "data": {
      "text/plain": [
       "array([2015, 2016, 2017], dtype=int64)"
      ]
     },
     "execution_count": 74,
     "metadata": {},
     "output_type": "execute_result"
    }
   ],
   "source": [
    "data['arrival_date_year'].unique()"
   ]
  },
  {
   "cell_type": "code",
   "execution_count": 75,
   "metadata": {},
   "outputs": [
    {
     "data": {
      "text/plain": [
       "array(['Direct', 'Corporate', 'Online TA', 'Offline TA/TO',\n",
       "       'Complementary', 'Groups', 'Undefined', 'Aviation'], dtype=object)"
      ]
     },
     "execution_count": 75,
     "metadata": {},
     "output_type": "execute_result"
    }
   ],
   "source": [
    "data['market_segment'].unique()"
   ]
  },
  {
   "cell_type": "code",
   "execution_count": 76,
   "metadata": {},
   "outputs": [
    {
     "data": {
      "text/plain": [
       "array(['Direct', 'Corporate', 'TA/TO', 'Undefined', 'GDS'], dtype=object)"
      ]
     },
     "execution_count": 76,
     "metadata": {},
     "output_type": "execute_result"
    }
   ],
   "source": [
    "data['distribution_channel'].unique()"
   ]
  },
  {
   "cell_type": "code",
   "execution_count": 77,
   "metadata": {},
   "outputs": [
    {
     "data": {
      "text/plain": [
       "array(['C', 'A', 'D', 'E', 'G', 'F', 'H', 'L', 'P', 'B'], dtype=object)"
      ]
     },
     "execution_count": 77,
     "metadata": {},
     "output_type": "execute_result"
    }
   ],
   "source": [
    "data['reserved_room_type'].unique()"
   ]
  },
  {
   "cell_type": "code",
   "execution_count": 78,
   "metadata": {},
   "outputs": [
    {
     "data": {
      "text/plain": [
       "array(['Check-Out', 'Canceled', 'No-Show'], dtype=object)"
      ]
     },
     "execution_count": 78,
     "metadata": {},
     "output_type": "execute_result"
    }
   ],
   "source": [
    "data['reservation_status'].unique()"
   ]
  },
  {
   "cell_type": "code",
   "execution_count": 79,
   "metadata": {},
   "outputs": [
    {
     "data": {
      "text/plain": [
       "array(['Transient', 'Contract', 'Transient-Party', 'Group'], dtype=object)"
      ]
     },
     "execution_count": 79,
     "metadata": {},
     "output_type": "execute_result"
    }
   ],
   "source": [
    "data['customer_type'].unique()"
   ]
  },
  {
   "cell_type": "code",
   "execution_count": 80,
   "metadata": {},
   "outputs": [
    {
     "data": {
      "text/html": [
       "<div>\n",
       "<style scoped>\n",
       "    .dataframe tbody tr th:only-of-type {\n",
       "        vertical-align: middle;\n",
       "    }\n",
       "\n",
       "    .dataframe tbody tr th {\n",
       "        vertical-align: top;\n",
       "    }\n",
       "\n",
       "    .dataframe thead th {\n",
       "        text-align: right;\n",
       "    }\n",
       "</style>\n",
       "<table border=\"1\" class=\"dataframe\">\n",
       "  <thead>\n",
       "    <tr style=\"text-align: right;\">\n",
       "      <th></th>\n",
       "      <th>is_canceled</th>\n",
       "      <th>lead_time</th>\n",
       "      <th>arrival_date_year</th>\n",
       "      <th>arrival_date_week_number</th>\n",
       "      <th>arrival_date_day_of_month</th>\n",
       "      <th>stays_in_weekend_nights</th>\n",
       "      <th>stays_in_week_nights</th>\n",
       "      <th>adults</th>\n",
       "      <th>children</th>\n",
       "      <th>babies</th>\n",
       "      <th>is_repeated_guest</th>\n",
       "      <th>previous_cancellations</th>\n",
       "      <th>previous_bookings_not_canceled</th>\n",
       "      <th>booking_changes</th>\n",
       "      <th>agent</th>\n",
       "      <th>company</th>\n",
       "      <th>days_in_waiting_list</th>\n",
       "      <th>adr</th>\n",
       "      <th>required_car_parking_spaces</th>\n",
       "      <th>total_of_special_requests</th>\n",
       "    </tr>\n",
       "  </thead>\n",
       "  <tbody>\n",
       "    <tr>\n",
       "      <th>count</th>\n",
       "      <td>119390.000000</td>\n",
       "      <td>119390.000000</td>\n",
       "      <td>119390.000000</td>\n",
       "      <td>119390.000000</td>\n",
       "      <td>119390.000000</td>\n",
       "      <td>119390.000000</td>\n",
       "      <td>119390.000000</td>\n",
       "      <td>119390.000000</td>\n",
       "      <td>119386.000000</td>\n",
       "      <td>119390.000000</td>\n",
       "      <td>119390.000000</td>\n",
       "      <td>119390.000000</td>\n",
       "      <td>119390.000000</td>\n",
       "      <td>119390.000000</td>\n",
       "      <td>103050.000000</td>\n",
       "      <td>6797.000000</td>\n",
       "      <td>119390.000000</td>\n",
       "      <td>119390.000000</td>\n",
       "      <td>119390.000000</td>\n",
       "      <td>119390.000000</td>\n",
       "    </tr>\n",
       "    <tr>\n",
       "      <th>mean</th>\n",
       "      <td>0.370416</td>\n",
       "      <td>104.011416</td>\n",
       "      <td>2016.156554</td>\n",
       "      <td>27.165173</td>\n",
       "      <td>15.798241</td>\n",
       "      <td>0.927599</td>\n",
       "      <td>2.500302</td>\n",
       "      <td>1.856403</td>\n",
       "      <td>0.103890</td>\n",
       "      <td>0.007949</td>\n",
       "      <td>0.031912</td>\n",
       "      <td>0.087118</td>\n",
       "      <td>0.137097</td>\n",
       "      <td>0.221124</td>\n",
       "      <td>86.693382</td>\n",
       "      <td>189.266735</td>\n",
       "      <td>2.321149</td>\n",
       "      <td>101.831122</td>\n",
       "      <td>0.062518</td>\n",
       "      <td>0.571363</td>\n",
       "    </tr>\n",
       "    <tr>\n",
       "      <th>std</th>\n",
       "      <td>0.482918</td>\n",
       "      <td>106.863097</td>\n",
       "      <td>0.707476</td>\n",
       "      <td>13.605138</td>\n",
       "      <td>8.780829</td>\n",
       "      <td>0.998613</td>\n",
       "      <td>1.908286</td>\n",
       "      <td>0.579261</td>\n",
       "      <td>0.398561</td>\n",
       "      <td>0.097436</td>\n",
       "      <td>0.175767</td>\n",
       "      <td>0.844336</td>\n",
       "      <td>1.497437</td>\n",
       "      <td>0.652306</td>\n",
       "      <td>110.774548</td>\n",
       "      <td>131.655015</td>\n",
       "      <td>17.594721</td>\n",
       "      <td>50.535790</td>\n",
       "      <td>0.245291</td>\n",
       "      <td>0.792798</td>\n",
       "    </tr>\n",
       "    <tr>\n",
       "      <th>min</th>\n",
       "      <td>0.000000</td>\n",
       "      <td>0.000000</td>\n",
       "      <td>2015.000000</td>\n",
       "      <td>1.000000</td>\n",
       "      <td>1.000000</td>\n",
       "      <td>0.000000</td>\n",
       "      <td>0.000000</td>\n",
       "      <td>0.000000</td>\n",
       "      <td>0.000000</td>\n",
       "      <td>0.000000</td>\n",
       "      <td>0.000000</td>\n",
       "      <td>0.000000</td>\n",
       "      <td>0.000000</td>\n",
       "      <td>0.000000</td>\n",
       "      <td>1.000000</td>\n",
       "      <td>6.000000</td>\n",
       "      <td>0.000000</td>\n",
       "      <td>-6.380000</td>\n",
       "      <td>0.000000</td>\n",
       "      <td>0.000000</td>\n",
       "    </tr>\n",
       "    <tr>\n",
       "      <th>25%</th>\n",
       "      <td>0.000000</td>\n",
       "      <td>18.000000</td>\n",
       "      <td>2016.000000</td>\n",
       "      <td>16.000000</td>\n",
       "      <td>8.000000</td>\n",
       "      <td>0.000000</td>\n",
       "      <td>1.000000</td>\n",
       "      <td>2.000000</td>\n",
       "      <td>0.000000</td>\n",
       "      <td>0.000000</td>\n",
       "      <td>0.000000</td>\n",
       "      <td>0.000000</td>\n",
       "      <td>0.000000</td>\n",
       "      <td>0.000000</td>\n",
       "      <td>9.000000</td>\n",
       "      <td>62.000000</td>\n",
       "      <td>0.000000</td>\n",
       "      <td>69.290000</td>\n",
       "      <td>0.000000</td>\n",
       "      <td>0.000000</td>\n",
       "    </tr>\n",
       "    <tr>\n",
       "      <th>50%</th>\n",
       "      <td>0.000000</td>\n",
       "      <td>69.000000</td>\n",
       "      <td>2016.000000</td>\n",
       "      <td>28.000000</td>\n",
       "      <td>16.000000</td>\n",
       "      <td>1.000000</td>\n",
       "      <td>2.000000</td>\n",
       "      <td>2.000000</td>\n",
       "      <td>0.000000</td>\n",
       "      <td>0.000000</td>\n",
       "      <td>0.000000</td>\n",
       "      <td>0.000000</td>\n",
       "      <td>0.000000</td>\n",
       "      <td>0.000000</td>\n",
       "      <td>14.000000</td>\n",
       "      <td>179.000000</td>\n",
       "      <td>0.000000</td>\n",
       "      <td>94.575000</td>\n",
       "      <td>0.000000</td>\n",
       "      <td>0.000000</td>\n",
       "    </tr>\n",
       "    <tr>\n",
       "      <th>75%</th>\n",
       "      <td>1.000000</td>\n",
       "      <td>160.000000</td>\n",
       "      <td>2017.000000</td>\n",
       "      <td>38.000000</td>\n",
       "      <td>23.000000</td>\n",
       "      <td>2.000000</td>\n",
       "      <td>3.000000</td>\n",
       "      <td>2.000000</td>\n",
       "      <td>0.000000</td>\n",
       "      <td>0.000000</td>\n",
       "      <td>0.000000</td>\n",
       "      <td>0.000000</td>\n",
       "      <td>0.000000</td>\n",
       "      <td>0.000000</td>\n",
       "      <td>229.000000</td>\n",
       "      <td>270.000000</td>\n",
       "      <td>0.000000</td>\n",
       "      <td>126.000000</td>\n",
       "      <td>0.000000</td>\n",
       "      <td>1.000000</td>\n",
       "    </tr>\n",
       "    <tr>\n",
       "      <th>max</th>\n",
       "      <td>1.000000</td>\n",
       "      <td>737.000000</td>\n",
       "      <td>2017.000000</td>\n",
       "      <td>53.000000</td>\n",
       "      <td>31.000000</td>\n",
       "      <td>19.000000</td>\n",
       "      <td>50.000000</td>\n",
       "      <td>55.000000</td>\n",
       "      <td>10.000000</td>\n",
       "      <td>10.000000</td>\n",
       "      <td>1.000000</td>\n",
       "      <td>26.000000</td>\n",
       "      <td>72.000000</td>\n",
       "      <td>21.000000</td>\n",
       "      <td>535.000000</td>\n",
       "      <td>543.000000</td>\n",
       "      <td>391.000000</td>\n",
       "      <td>5400.000000</td>\n",
       "      <td>8.000000</td>\n",
       "      <td>5.000000</td>\n",
       "    </tr>\n",
       "  </tbody>\n",
       "</table>\n",
       "</div>"
      ],
      "text/plain": [
       "         is_canceled      lead_time  arrival_date_year  \\\n",
       "count  119390.000000  119390.000000      119390.000000   \n",
       "mean        0.370416     104.011416        2016.156554   \n",
       "std         0.482918     106.863097           0.707476   \n",
       "min         0.000000       0.000000        2015.000000   \n",
       "25%         0.000000      18.000000        2016.000000   \n",
       "50%         0.000000      69.000000        2016.000000   \n",
       "75%         1.000000     160.000000        2017.000000   \n",
       "max         1.000000     737.000000        2017.000000   \n",
       "\n",
       "       arrival_date_week_number  arrival_date_day_of_month  \\\n",
       "count             119390.000000              119390.000000   \n",
       "mean                  27.165173                  15.798241   \n",
       "std                   13.605138                   8.780829   \n",
       "min                    1.000000                   1.000000   \n",
       "25%                   16.000000                   8.000000   \n",
       "50%                   28.000000                  16.000000   \n",
       "75%                   38.000000                  23.000000   \n",
       "max                   53.000000                  31.000000   \n",
       "\n",
       "       stays_in_weekend_nights  stays_in_week_nights         adults  \\\n",
       "count            119390.000000         119390.000000  119390.000000   \n",
       "mean                  0.927599              2.500302       1.856403   \n",
       "std                   0.998613              1.908286       0.579261   \n",
       "min                   0.000000              0.000000       0.000000   \n",
       "25%                   0.000000              1.000000       2.000000   \n",
       "50%                   1.000000              2.000000       2.000000   \n",
       "75%                   2.000000              3.000000       2.000000   \n",
       "max                  19.000000             50.000000      55.000000   \n",
       "\n",
       "            children         babies  is_repeated_guest  \\\n",
       "count  119386.000000  119390.000000      119390.000000   \n",
       "mean        0.103890       0.007949           0.031912   \n",
       "std         0.398561       0.097436           0.175767   \n",
       "min         0.000000       0.000000           0.000000   \n",
       "25%         0.000000       0.000000           0.000000   \n",
       "50%         0.000000       0.000000           0.000000   \n",
       "75%         0.000000       0.000000           0.000000   \n",
       "max        10.000000      10.000000           1.000000   \n",
       "\n",
       "       previous_cancellations  previous_bookings_not_canceled  \\\n",
       "count           119390.000000                   119390.000000   \n",
       "mean                 0.087118                        0.137097   \n",
       "std                  0.844336                        1.497437   \n",
       "min                  0.000000                        0.000000   \n",
       "25%                  0.000000                        0.000000   \n",
       "50%                  0.000000                        0.000000   \n",
       "75%                  0.000000                        0.000000   \n",
       "max                 26.000000                       72.000000   \n",
       "\n",
       "       booking_changes          agent      company  days_in_waiting_list  \\\n",
       "count    119390.000000  103050.000000  6797.000000         119390.000000   \n",
       "mean          0.221124      86.693382   189.266735              2.321149   \n",
       "std           0.652306     110.774548   131.655015             17.594721   \n",
       "min           0.000000       1.000000     6.000000              0.000000   \n",
       "25%           0.000000       9.000000    62.000000              0.000000   \n",
       "50%           0.000000      14.000000   179.000000              0.000000   \n",
       "75%           0.000000     229.000000   270.000000              0.000000   \n",
       "max          21.000000     535.000000   543.000000            391.000000   \n",
       "\n",
       "                 adr  required_car_parking_spaces  total_of_special_requests  \n",
       "count  119390.000000                119390.000000              119390.000000  \n",
       "mean      101.831122                     0.062518                   0.571363  \n",
       "std        50.535790                     0.245291                   0.792798  \n",
       "min        -6.380000                     0.000000                   0.000000  \n",
       "25%        69.290000                     0.000000                   0.000000  \n",
       "50%        94.575000                     0.000000                   0.000000  \n",
       "75%       126.000000                     0.000000                   1.000000  \n",
       "max      5400.000000                     8.000000                   5.000000  "
      ]
     },
     "execution_count": 80,
     "metadata": {},
     "output_type": "execute_result"
    }
   ],
   "source": [
    "data.describe()"
   ]
  },
  {
   "cell_type": "code",
   "execution_count": 81,
   "metadata": {},
   "outputs": [
    {
     "data": {
      "text/plain": [
       "hotel                              object\n",
       "is_canceled                         int64\n",
       "lead_time                           int64\n",
       "arrival_date_year                   int64\n",
       "arrival_date_month                 object\n",
       "arrival_date_week_number            int64\n",
       "arrival_date_day_of_month           int64\n",
       "stays_in_weekend_nights             int64\n",
       "stays_in_week_nights                int64\n",
       "adults                              int64\n",
       "children                          float64\n",
       "babies                              int64\n",
       "meal                               object\n",
       "country                            object\n",
       "market_segment                     object\n",
       "distribution_channel               object\n",
       "is_repeated_guest                   int64\n",
       "previous_cancellations              int64\n",
       "previous_bookings_not_canceled      int64\n",
       "reserved_room_type                 object\n",
       "assigned_room_type                 object\n",
       "booking_changes                     int64\n",
       "deposit_type                       object\n",
       "agent                             float64\n",
       "company                           float64\n",
       "days_in_waiting_list                int64\n",
       "customer_type                      object\n",
       "adr                               float64\n",
       "required_car_parking_spaces         int64\n",
       "total_of_special_requests           int64\n",
       "reservation_status                 object\n",
       "reservation_status_date            object\n",
       "dtype: object"
      ]
     },
     "execution_count": 81,
     "metadata": {},
     "output_type": "execute_result"
    }
   ],
   "source": [
    "data.dtypes"
   ]
  },
  {
   "cell_type": "code",
   "execution_count": 82,
   "metadata": {},
   "outputs": [
    {
     "name": "stdout",
     "output_type": "stream",
     "text": [
      "<class 'pandas.core.frame.DataFrame'>\n",
      "RangeIndex: 119390 entries, 0 to 119389\n",
      "Data columns (total 32 columns):\n",
      " #   Column                          Non-Null Count   Dtype  \n",
      "---  ------                          --------------   -----  \n",
      " 0   hotel                           119390 non-null  object \n",
      " 1   is_canceled                     119390 non-null  int64  \n",
      " 2   lead_time                       119390 non-null  int64  \n",
      " 3   arrival_date_year               119390 non-null  int64  \n",
      " 4   arrival_date_month              119390 non-null  object \n",
      " 5   arrival_date_week_number        119390 non-null  int64  \n",
      " 6   arrival_date_day_of_month       119390 non-null  int64  \n",
      " 7   stays_in_weekend_nights         119390 non-null  int64  \n",
      " 8   stays_in_week_nights            119390 non-null  int64  \n",
      " 9   adults                          119390 non-null  int64  \n",
      " 10  children                        119386 non-null  float64\n",
      " 11  babies                          119390 non-null  int64  \n",
      " 12  meal                            119390 non-null  object \n",
      " 13  country                         118902 non-null  object \n",
      " 14  market_segment                  119390 non-null  object \n",
      " 15  distribution_channel            119390 non-null  object \n",
      " 16  is_repeated_guest               119390 non-null  int64  \n",
      " 17  previous_cancellations          119390 non-null  int64  \n",
      " 18  previous_bookings_not_canceled  119390 non-null  int64  \n",
      " 19  reserved_room_type              119390 non-null  object \n",
      " 20  assigned_room_type              119390 non-null  object \n",
      " 21  booking_changes                 119390 non-null  int64  \n",
      " 22  deposit_type                    119390 non-null  object \n",
      " 23  agent                           103050 non-null  float64\n",
      " 24  company                         6797 non-null    float64\n",
      " 25  days_in_waiting_list            119390 non-null  int64  \n",
      " 26  customer_type                   119390 non-null  object \n",
      " 27  adr                             119390 non-null  float64\n",
      " 28  required_car_parking_spaces     119390 non-null  int64  \n",
      " 29  total_of_special_requests       119390 non-null  int64  \n",
      " 30  reservation_status              119390 non-null  object \n",
      " 31  reservation_status_date         119390 non-null  object \n",
      "dtypes: float64(4), int64(16), object(12)\n",
      "memory usage: 29.1+ MB\n"
     ]
    }
   ],
   "source": [
    "data.info()"
   ]
  },
  {
   "cell_type": "code",
   "execution_count": 83,
   "metadata": {
    "scrolled": true
   },
   "outputs": [
    {
     "data": {
      "text/plain": [
       "hotel                                  0\n",
       "is_canceled                            0\n",
       "lead_time                              0\n",
       "arrival_date_year                      0\n",
       "arrival_date_month                     0\n",
       "arrival_date_week_number               0\n",
       "arrival_date_day_of_month              0\n",
       "stays_in_weekend_nights                0\n",
       "stays_in_week_nights                   0\n",
       "adults                                 0\n",
       "children                               4\n",
       "babies                                 0\n",
       "meal                                   0\n",
       "country                              488\n",
       "market_segment                         0\n",
       "distribution_channel                   0\n",
       "is_repeated_guest                      0\n",
       "previous_cancellations                 0\n",
       "previous_bookings_not_canceled         0\n",
       "reserved_room_type                     0\n",
       "assigned_room_type                     0\n",
       "booking_changes                        0\n",
       "deposit_type                           0\n",
       "agent                              16340\n",
       "company                           112593\n",
       "days_in_waiting_list                   0\n",
       "customer_type                          0\n",
       "adr                                    0\n",
       "required_car_parking_spaces            0\n",
       "total_of_special_requests              0\n",
       "reservation_status                     0\n",
       "reservation_status_date                0\n",
       "dtype: int64"
      ]
     },
     "execution_count": 83,
     "metadata": {},
     "output_type": "execute_result"
    }
   ],
   "source": [
    "data.isnull().sum()"
   ]
  },
  {
   "cell_type": "code",
   "execution_count": 84,
   "metadata": {},
   "outputs": [
    {
     "data": {
      "text/html": [
       "<div>\n",
       "<style scoped>\n",
       "    .dataframe tbody tr th:only-of-type {\n",
       "        vertical-align: middle;\n",
       "    }\n",
       "\n",
       "    .dataframe tbody tr th {\n",
       "        vertical-align: top;\n",
       "    }\n",
       "\n",
       "    .dataframe thead th {\n",
       "        text-align: right;\n",
       "    }\n",
       "</style>\n",
       "<table border=\"1\" class=\"dataframe\">\n",
       "  <thead>\n",
       "    <tr style=\"text-align: right;\">\n",
       "      <th></th>\n",
       "      <th>lead_time</th>\n",
       "      <th>stays_in_weekend_nights</th>\n",
       "      <th>stays_in_week_nights</th>\n",
       "      <th>adults</th>\n",
       "      <th>children</th>\n",
       "      <th>days_in_waiting_list</th>\n",
       "      <th>adr</th>\n",
       "      <th>total_of_special_requests</th>\n",
       "    </tr>\n",
       "  </thead>\n",
       "  <tbody>\n",
       "    <tr>\n",
       "      <th>0</th>\n",
       "      <td>342</td>\n",
       "      <td>0</td>\n",
       "      <td>0</td>\n",
       "      <td>2</td>\n",
       "      <td>0.0</td>\n",
       "      <td>0</td>\n",
       "      <td>0.0</td>\n",
       "      <td>0</td>\n",
       "    </tr>\n",
       "    <tr>\n",
       "      <th>1</th>\n",
       "      <td>737</td>\n",
       "      <td>0</td>\n",
       "      <td>0</td>\n",
       "      <td>2</td>\n",
       "      <td>0.0</td>\n",
       "      <td>0</td>\n",
       "      <td>0.0</td>\n",
       "      <td>0</td>\n",
       "    </tr>\n",
       "    <tr>\n",
       "      <th>2</th>\n",
       "      <td>7</td>\n",
       "      <td>0</td>\n",
       "      <td>1</td>\n",
       "      <td>1</td>\n",
       "      <td>0.0</td>\n",
       "      <td>0</td>\n",
       "      <td>75.0</td>\n",
       "      <td>0</td>\n",
       "    </tr>\n",
       "    <tr>\n",
       "      <th>3</th>\n",
       "      <td>13</td>\n",
       "      <td>0</td>\n",
       "      <td>1</td>\n",
       "      <td>1</td>\n",
       "      <td>0.0</td>\n",
       "      <td>0</td>\n",
       "      <td>75.0</td>\n",
       "      <td>0</td>\n",
       "    </tr>\n",
       "    <tr>\n",
       "      <th>4</th>\n",
       "      <td>14</td>\n",
       "      <td>0</td>\n",
       "      <td>2</td>\n",
       "      <td>2</td>\n",
       "      <td>0.0</td>\n",
       "      <td>0</td>\n",
       "      <td>98.0</td>\n",
       "      <td>1</td>\n",
       "    </tr>\n",
       "  </tbody>\n",
       "</table>\n",
       "</div>"
      ],
      "text/plain": [
       "   lead_time  stays_in_weekend_nights  stays_in_week_nights  adults  children  \\\n",
       "0        342                        0                     0       2       0.0   \n",
       "1        737                        0                     0       2       0.0   \n",
       "2          7                        0                     1       1       0.0   \n",
       "3         13                        0                     1       1       0.0   \n",
       "4         14                        0                     2       2       0.0   \n",
       "\n",
       "   days_in_waiting_list   adr  total_of_special_requests  \n",
       "0                     0   0.0                          0  \n",
       "1                     0   0.0                          0  \n",
       "2                     0  75.0                          0  \n",
       "3                     0  75.0                          0  \n",
       "4                     0  98.0                          1  "
      ]
     },
     "execution_count": 84,
     "metadata": {},
     "output_type": "execute_result"
    }
   ],
   "source": [
    "data_corr = data[['lead_time','stays_in_weekend_nights', 'stays_in_week_nights','adults',  'children','days_in_waiting_list','adr', 'total_of_special_requests' ]]\n",
    "data_corr.head()"
   ]
  },
  {
   "cell_type": "code",
   "execution_count": 85,
   "metadata": {},
   "outputs": [
    {
     "data": {
      "image/png": "[encoded data removed]",
      "text/plain": [
       "<Figure size 1440x720 with 2 Axes>"
      ]
     },
     "metadata": {
      "needs_background": "light"
     },
     "output_type": "display_data"
    }
   ],
   "source": [
    "\n",
    "corrMatrix = data_corr.corr()\n",
    "plt.figure(figsize = (20,10))\n",
    "sns.heatmap(corrMatrix, annot=True)\n",
    "plt.show()"
   ]
  },
  {
   "cell_type": "code",
   "execution_count": 86,
   "metadata": {},
   "outputs": [
    {
     "data": {
      "text/plain": [
       "<matplotlib.axes._subplots.AxesSubplot at 0x1872e42b700>"
      ]
     },
     "execution_count": 86,
     "metadata": {},
     "output_type": "execute_result"
    },
    {
     "data": {
      "image/png": "[encoded data removed]",
      "text/plain": [
       "<Figure size 432x288 with 1 Axes>"
      ]
     },
     "metadata": {
      "needs_background": "light"
     },
     "output_type": "display_data"
    }
   ],
   "source": [
    "#check daily rate median depending on month of arrival \n",
    "Month = {'January':1, 'February':2, 'March':3, 'April':4, 'May':5, 'June':6, 'July':7, 'August':8, 'September':9, 'October':10, 'November':11, 'December':12}\n",
    "data['month']=data['arrival_date_month'].map(Month)\n",
    "ADR = data[['adr','month']].groupby(['month']).median().reset_index()\n",
    "sns.pointplot(x='month', y='adr', data=ADR)\n"
   ]
  },
  {
   "cell_type": "code",
   "execution_count": 87,
   "metadata": {},
   "outputs": [
    {
     "data": {
      "text/html": [
       "<style  type=\"text/css\" >\n",
       "    #T_c7ed0bb9_9a31_11eb_9dbd_0c9d92808ca1row0_col0 {\n",
       "            background-color:  #e5ffe5;\n",
       "            color:  #000000;\n",
       "        }    #T_c7ed0bb9_9a31_11eb_9dbd_0c9d92808ca1row0_col1 {\n",
       "            background-color:  #e5ffe5;\n",
       "            color:  #000000;\n",
       "        }    #T_c7ed0bb9_9a31_11eb_9dbd_0c9d92808ca1row0_col2 {\n",
       "            background-color:  #e5ffe5;\n",
       "            color:  #000000;\n",
       "        }    #T_c7ed0bb9_9a31_11eb_9dbd_0c9d92808ca1row0_col3 {\n",
       "            background-color:  #008000;\n",
       "            color:  #f1f1f1;\n",
       "        }    #T_c7ed0bb9_9a31_11eb_9dbd_0c9d92808ca1row0_col4 {\n",
       "            background-color:  #e5ffe5;\n",
       "            color:  #000000;\n",
       "        }    #T_c7ed0bb9_9a31_11eb_9dbd_0c9d92808ca1row0_col5 {\n",
       "            background-color:  #e5ffe5;\n",
       "            color:  #000000;\n",
       "        }    #T_c7ed0bb9_9a31_11eb_9dbd_0c9d92808ca1row0_col6 {\n",
       "            background-color:  #e5ffe5;\n",
       "            color:  #000000;\n",
       "        }    #T_c7ed0bb9_9a31_11eb_9dbd_0c9d92808ca1row0_col7 {\n",
       "            background-color:  #e5ffe5;\n",
       "            color:  #000000;\n",
       "        }    #T_c7ed0bb9_9a31_11eb_9dbd_0c9d92808ca1row1_col0 {\n",
       "            background-color:  #a8dda8;\n",
       "            color:  #000000;\n",
       "        }    #T_c7ed0bb9_9a31_11eb_9dbd_0c9d92808ca1row1_col1 {\n",
       "            background-color:  #dcfadc;\n",
       "            color:  #000000;\n",
       "        }    #T_c7ed0bb9_9a31_11eb_9dbd_0c9d92808ca1row1_col2 {\n",
       "            background-color:  #dbf9db;\n",
       "            color:  #000000;\n",
       "        }    #T_c7ed0bb9_9a31_11eb_9dbd_0c9d92808ca1row1_col3 {\n",
       "            background-color:  #008000;\n",
       "            color:  #f1f1f1;\n",
       "        }    #T_c7ed0bb9_9a31_11eb_9dbd_0c9d92808ca1row1_col4 {\n",
       "            background-color:  #cbf1cb;\n",
       "            color:  #000000;\n",
       "        }    #T_c7ed0bb9_9a31_11eb_9dbd_0c9d92808ca1row1_col5 {\n",
       "            background-color:  #d6f7d6;\n",
       "            color:  #000000;\n",
       "        }    #T_c7ed0bb9_9a31_11eb_9dbd_0c9d92808ca1row1_col6 {\n",
       "            background-color:  #e0fce0;\n",
       "            color:  #000000;\n",
       "        }    #T_c7ed0bb9_9a31_11eb_9dbd_0c9d92808ca1row1_col7 {\n",
       "            background-color:  #e5ffe5;\n",
       "            color:  #000000;\n",
       "        }    #T_c7ed0bb9_9a31_11eb_9dbd_0c9d92808ca1row2_col0 {\n",
       "            background-color:  #76c176;\n",
       "            color:  #000000;\n",
       "        }    #T_c7ed0bb9_9a31_11eb_9dbd_0c9d92808ca1row2_col1 {\n",
       "            background-color:  #c4edc4;\n",
       "            color:  #000000;\n",
       "        }    #T_c7ed0bb9_9a31_11eb_9dbd_0c9d92808ca1row2_col2 {\n",
       "            background-color:  #008000;\n",
       "            color:  #f1f1f1;\n",
       "        }    #T_c7ed0bb9_9a31_11eb_9dbd_0c9d92808ca1row2_col3 {\n",
       "            background-color:  #e5ffe5;\n",
       "            color:  #000000;\n",
       "        }    #T_c7ed0bb9_9a31_11eb_9dbd_0c9d92808ca1row2_col4 {\n",
       "            background-color:  #acdfac;\n",
       "            color:  #000000;\n",
       "        }    #T_c7ed0bb9_9a31_11eb_9dbd_0c9d92808ca1row2_col5 {\n",
       "            background-color:  #c6eec6;\n",
       "            color:  #000000;\n",
       "        }    #T_c7ed0bb9_9a31_11eb_9dbd_0c9d92808ca1row2_col6 {\n",
       "            background-color:  #ccf1cc;\n",
       "            color:  #000000;\n",
       "        }    #T_c7ed0bb9_9a31_11eb_9dbd_0c9d92808ca1row2_col7 {\n",
       "            background-color:  #008000;\n",
       "            color:  #f1f1f1;\n",
       "        }    #T_c7ed0bb9_9a31_11eb_9dbd_0c9d92808ca1row3_col0 {\n",
       "            background-color:  #50ac50;\n",
       "            color:  #000000;\n",
       "        }    #T_c7ed0bb9_9a31_11eb_9dbd_0c9d92808ca1row3_col1 {\n",
       "            background-color:  #82c882;\n",
       "            color:  #000000;\n",
       "        }    #T_c7ed0bb9_9a31_11eb_9dbd_0c9d92808ca1row3_col2 {\n",
       "            background-color:  #a5dba5;\n",
       "            color:  #000000;\n",
       "        }    #T_c7ed0bb9_9a31_11eb_9dbd_0c9d92808ca1row3_col3 {\n",
       "            background-color:  #008000;\n",
       "            color:  #f1f1f1;\n",
       "        }    #T_c7ed0bb9_9a31_11eb_9dbd_0c9d92808ca1row3_col4 {\n",
       "            background-color:  #5eb45e;\n",
       "            color:  #000000;\n",
       "        }    #T_c7ed0bb9_9a31_11eb_9dbd_0c9d92808ca1row3_col5 {\n",
       "            background-color:  #84c984;\n",
       "            color:  #000000;\n",
       "        }    #T_c7ed0bb9_9a31_11eb_9dbd_0c9d92808ca1row3_col6 {\n",
       "            background-color:  #94d294;\n",
       "            color:  #000000;\n",
       "        }    #T_c7ed0bb9_9a31_11eb_9dbd_0c9d92808ca1row3_col7 {\n",
       "            background-color:  #e3fee3;\n",
       "            color:  #000000;\n",
       "        }    #T_c7ed0bb9_9a31_11eb_9dbd_0c9d92808ca1row4_col0 {\n",
       "            background-color:  #3ca13c;\n",
       "            color:  #000000;\n",
       "        }    #T_c7ed0bb9_9a31_11eb_9dbd_0c9d92808ca1row4_col1 {\n",
       "            background-color:  #67b967;\n",
       "            color:  #000000;\n",
       "        }    #T_c7ed0bb9_9a31_11eb_9dbd_0c9d92808ca1row4_col2 {\n",
       "            background-color:  #86ca86;\n",
       "            color:  #000000;\n",
       "        }    #T_c7ed0bb9_9a31_11eb_9dbd_0c9d92808ca1row4_col3 {\n",
       "            background-color:  #008000;\n",
       "            color:  #f1f1f1;\n",
       "        }    #T_c7ed0bb9_9a31_11eb_9dbd_0c9d92808ca1row4_col4 {\n",
       "            background-color:  #4dab4d;\n",
       "            color:  #000000;\n",
       "        }    #T_c7ed0bb9_9a31_11eb_9dbd_0c9d92808ca1row4_col5 {\n",
       "            background-color:  #56b056;\n",
       "            color:  #000000;\n",
       "        }    #T_c7ed0bb9_9a31_11eb_9dbd_0c9d92808ca1row4_col6 {\n",
       "            background-color:  #72bf72;\n",
       "            color:  #000000;\n",
       "        }    #T_c7ed0bb9_9a31_11eb_9dbd_0c9d92808ca1row4_col7 {\n",
       "            background-color:  #dbf9db;\n",
       "            color:  #000000;\n",
       "        }    #T_c7ed0bb9_9a31_11eb_9dbd_0c9d92808ca1row5_col0 {\n",
       "            background-color:  #55af55;\n",
       "            color:  #000000;\n",
       "        }    #T_c7ed0bb9_9a31_11eb_9dbd_0c9d92808ca1row5_col1 {\n",
       "            background-color:  #4dab4d;\n",
       "            color:  #000000;\n",
       "        }    #T_c7ed0bb9_9a31_11eb_9dbd_0c9d92808ca1row5_col2 {\n",
       "            background-color:  #a1d9a1;\n",
       "            color:  #000000;\n",
       "        }    #T_c7ed0bb9_9a31_11eb_9dbd_0c9d92808ca1row5_col3 {\n",
       "            background-color:  #008000;\n",
       "            color:  #f1f1f1;\n",
       "        }    #T_c7ed0bb9_9a31_11eb_9dbd_0c9d92808ca1row5_col4 {\n",
       "            background-color:  #0f880f;\n",
       "            color:  #f1f1f1;\n",
       "        }    #T_c7ed0bb9_9a31_11eb_9dbd_0c9d92808ca1row5_col5 {\n",
       "            background-color:  #3ba13b;\n",
       "            color:  #000000;\n",
       "        }    #T_c7ed0bb9_9a31_11eb_9dbd_0c9d92808ca1row5_col6 {\n",
       "            background-color:  #6dbc6d;\n",
       "            color:  #000000;\n",
       "        }    #T_c7ed0bb9_9a31_11eb_9dbd_0c9d92808ca1row5_col7 {\n",
       "            background-color:  #e3fee3;\n",
       "            color:  #000000;\n",
       "        }    #T_c7ed0bb9_9a31_11eb_9dbd_0c9d92808ca1row6_col0 {\n",
       "            background-color:  #239323;\n",
       "            color:  #000000;\n",
       "        }    #T_c7ed0bb9_9a31_11eb_9dbd_0c9d92808ca1row6_col1 {\n",
       "            background-color:  #2b982b;\n",
       "            color:  #000000;\n",
       "        }    #T_c7ed0bb9_9a31_11eb_9dbd_0c9d92808ca1row6_col2 {\n",
       "            background-color:  #49a849;\n",
       "            color:  #000000;\n",
       "        }    #T_c7ed0bb9_9a31_11eb_9dbd_0c9d92808ca1row6_col3 {\n",
       "            background-color:  #008000;\n",
       "            color:  #f1f1f1;\n",
       "        }    #T_c7ed0bb9_9a31_11eb_9dbd_0c9d92808ca1row6_col4 {\n",
       "            background-color:  #1a8e1a;\n",
       "            color:  #000000;\n",
       "        }    #T_c7ed0bb9_9a31_11eb_9dbd_0c9d92808ca1row6_col5 {\n",
       "            background-color:  #309a30;\n",
       "            color:  #000000;\n",
       "        }    #T_c7ed0bb9_9a31_11eb_9dbd_0c9d92808ca1row6_col6 {\n",
       "            background-color:  #3ca13c;\n",
       "            color:  #000000;\n",
       "        }    #T_c7ed0bb9_9a31_11eb_9dbd_0c9d92808ca1row6_col7 {\n",
       "            background-color:  #dbf9db;\n",
       "            color:  #000000;\n",
       "        }    #T_c7ed0bb9_9a31_11eb_9dbd_0c9d92808ca1row7_col0 {\n",
       "            background-color:  #008000;\n",
       "            color:  #f1f1f1;\n",
       "        }    #T_c7ed0bb9_9a31_11eb_9dbd_0c9d92808ca1row7_col1 {\n",
       "            background-color:  #008000;\n",
       "            color:  #f1f1f1;\n",
       "        }    #T_c7ed0bb9_9a31_11eb_9dbd_0c9d92808ca1row7_col2 {\n",
       "            background-color:  #098509;\n",
       "            color:  #f1f1f1;\n",
       "        }    #T_c7ed0bb9_9a31_11eb_9dbd_0c9d92808ca1row7_col3 {\n",
       "            background-color:  #008000;\n",
       "            color:  #f1f1f1;\n",
       "        }    #T_c7ed0bb9_9a31_11eb_9dbd_0c9d92808ca1row7_col4 {\n",
       "            background-color:  #008000;\n",
       "            color:  #f1f1f1;\n",
       "        }    #T_c7ed0bb9_9a31_11eb_9dbd_0c9d92808ca1row7_col5 {\n",
       "            background-color:  #008000;\n",
       "            color:  #f1f1f1;\n",
       "        }    #T_c7ed0bb9_9a31_11eb_9dbd_0c9d92808ca1row7_col6 {\n",
       "            background-color:  #008000;\n",
       "            color:  #f1f1f1;\n",
       "        }    #T_c7ed0bb9_9a31_11eb_9dbd_0c9d92808ca1row7_col7 {\n",
       "            background-color:  #ddfbdd;\n",
       "            color:  #000000;\n",
       "        }    #T_c7ed0bb9_9a31_11eb_9dbd_0c9d92808ca1row8_col0 {\n",
       "            background-color:  #61b661;\n",
       "            color:  #000000;\n",
       "        }    #T_c7ed0bb9_9a31_11eb_9dbd_0c9d92808ca1row8_col1 {\n",
       "            background-color:  #73c073;\n",
       "            color:  #000000;\n",
       "        }    #T_c7ed0bb9_9a31_11eb_9dbd_0c9d92808ca1row8_col2 {\n",
       "            background-color:  #85ca85;\n",
       "            color:  #000000;\n",
       "        }    #T_c7ed0bb9_9a31_11eb_9dbd_0c9d92808ca1row8_col3 {\n",
       "            background-color:  #008000;\n",
       "            color:  #f1f1f1;\n",
       "        }    #T_c7ed0bb9_9a31_11eb_9dbd_0c9d92808ca1row8_col4 {\n",
       "            background-color:  #68ba68;\n",
       "            color:  #000000;\n",
       "        }    #T_c7ed0bb9_9a31_11eb_9dbd_0c9d92808ca1row8_col5 {\n",
       "            background-color:  #74c074;\n",
       "            color:  #000000;\n",
       "        }    #T_c7ed0bb9_9a31_11eb_9dbd_0c9d92808ca1row8_col6 {\n",
       "            background-color:  #79c379;\n",
       "            color:  #000000;\n",
       "        }    #T_c7ed0bb9_9a31_11eb_9dbd_0c9d92808ca1row8_col7 {\n",
       "            background-color:  #e2fde2;\n",
       "            color:  #000000;\n",
       "        }    #T_c7ed0bb9_9a31_11eb_9dbd_0c9d92808ca1row9_col0 {\n",
       "            background-color:  #4eab4e;\n",
       "            color:  #000000;\n",
       "        }    #T_c7ed0bb9_9a31_11eb_9dbd_0c9d92808ca1row9_col1 {\n",
       "            background-color:  #acdfac;\n",
       "            color:  #000000;\n",
       "        }    #T_c7ed0bb9_9a31_11eb_9dbd_0c9d92808ca1row9_col2 {\n",
       "            background-color:  #b1e2b1;\n",
       "            color:  #000000;\n",
       "        }    #T_c7ed0bb9_9a31_11eb_9dbd_0c9d92808ca1row9_col3 {\n",
       "            background-color:  #008000;\n",
       "            color:  #f1f1f1;\n",
       "        }    #T_c7ed0bb9_9a31_11eb_9dbd_0c9d92808ca1row9_col4 {\n",
       "            background-color:  #acdfac;\n",
       "            color:  #000000;\n",
       "        }    #T_c7ed0bb9_9a31_11eb_9dbd_0c9d92808ca1row9_col5 {\n",
       "            background-color:  #ade0ad;\n",
       "            color:  #000000;\n",
       "        }    #T_c7ed0bb9_9a31_11eb_9dbd_0c9d92808ca1row9_col6 {\n",
       "            background-color:  #aadeaa;\n",
       "            color:  #000000;\n",
       "        }    #T_c7ed0bb9_9a31_11eb_9dbd_0c9d92808ca1row9_col7 {\n",
       "            background-color:  #e5ffe5;\n",
       "            color:  #000000;\n",
       "        }    #T_c7ed0bb9_9a31_11eb_9dbd_0c9d92808ca1row10_col0 {\n",
       "            background-color:  #cdf2cd;\n",
       "            color:  #000000;\n",
       "        }    #T_c7ed0bb9_9a31_11eb_9dbd_0c9d92808ca1row10_col1 {\n",
       "            background-color:  #dbf9db;\n",
       "            color:  #000000;\n",
       "        }    #T_c7ed0bb9_9a31_11eb_9dbd_0c9d92808ca1row10_col2 {\n",
       "            background-color:  #c5edc5;\n",
       "            color:  #000000;\n",
       "        }    #T_c7ed0bb9_9a31_11eb_9dbd_0c9d92808ca1row10_col3 {\n",
       "            background-color:  #008000;\n",
       "            color:  #f1f1f1;\n",
       "        }    #T_c7ed0bb9_9a31_11eb_9dbd_0c9d92808ca1row10_col4 {\n",
       "            background-color:  #e2fde2;\n",
       "            color:  #000000;\n",
       "        }    #T_c7ed0bb9_9a31_11eb_9dbd_0c9d92808ca1row10_col5 {\n",
       "            background-color:  #defbde;\n",
       "            color:  #000000;\n",
       "        }    #T_c7ed0bb9_9a31_11eb_9dbd_0c9d92808ca1row10_col6 {\n",
       "            background-color:  #daf9da;\n",
       "            color:  #000000;\n",
       "        }    #T_c7ed0bb9_9a31_11eb_9dbd_0c9d92808ca1row10_col7 {\n",
       "            background-color:  #e5ffe5;\n",
       "            color:  #000000;\n",
       "        }    #T_c7ed0bb9_9a31_11eb_9dbd_0c9d92808ca1row11_col0 {\n",
       "            background-color:  #cdf2cd;\n",
       "            color:  #000000;\n",
       "        }    #T_c7ed0bb9_9a31_11eb_9dbd_0c9d92808ca1row11_col1 {\n",
       "            background-color:  #c2ecc2;\n",
       "            color:  #000000;\n",
       "        }    #T_c7ed0bb9_9a31_11eb_9dbd_0c9d92808ca1row11_col2 {\n",
       "            background-color:  #87cb87;\n",
       "            color:  #000000;\n",
       "        }    #T_c7ed0bb9_9a31_11eb_9dbd_0c9d92808ca1row11_col3 {\n",
       "            background-color:  #008000;\n",
       "            color:  #f1f1f1;\n",
       "        }    #T_c7ed0bb9_9a31_11eb_9dbd_0c9d92808ca1row11_col4 {\n",
       "            background-color:  #c0eac0;\n",
       "            color:  #000000;\n",
       "        }    #T_c7ed0bb9_9a31_11eb_9dbd_0c9d92808ca1row11_col5 {\n",
       "            background-color:  #d6f7d6;\n",
       "            color:  #000000;\n",
       "        }    #T_c7ed0bb9_9a31_11eb_9dbd_0c9d92808ca1row11_col6 {\n",
       "            background-color:  #cbf1cb;\n",
       "            color:  #000000;\n",
       "        }    #T_c7ed0bb9_9a31_11eb_9dbd_0c9d92808ca1row11_col7 {\n",
       "            background-color:  #ddfbdd;\n",
       "            color:  #000000;\n",
       "        }</style><table id=\"T_c7ed0bb9_9a31_11eb_9dbd_0c9d92808ca1\" ><thead>    <tr>        <th class=\"blank level0\" ></th>        <th class=\"col_heading level0 col0\" >count</th>        <th class=\"col_heading level0 col1\" >mean</th>        <th class=\"col_heading level0 col2\" >std</th>        <th class=\"col_heading level0 col3\" >min</th>        <th class=\"col_heading level0 col4\" >25%</th>        <th class=\"col_heading level0 col5\" >50%</th>        <th class=\"col_heading level0 col6\" >75%</th>        <th class=\"col_heading level0 col7\" >max</th>    </tr>    <tr>        <th class=\"index_name level0\" >month</th>        <th class=\"blank\" ></th>        <th class=\"blank\" ></th>        <th class=\"blank\" ></th>        <th class=\"blank\" ></th>        <th class=\"blank\" ></th>        <th class=\"blank\" ></th>        <th class=\"blank\" ></th>        <th class=\"blank\" ></th>    </tr></thead><tbody>\n",
       "                <tr>\n",
       "                        <th id=\"T_c7ed0bb9_9a31_11eb_9dbd_0c9d92808ca1level0_row0\" class=\"row_heading level0 row0\" >1</th>\n",
       "                        <td id=\"T_c7ed0bb9_9a31_11eb_9dbd_0c9d92808ca1row0_col0\" class=\"data row0 col0\" >5929.000000</td>\n",
       "                        <td id=\"T_c7ed0bb9_9a31_11eb_9dbd_0c9d92808ca1row0_col1\" class=\"data row0 col1\" >70.361241</td>\n",
       "                        <td id=\"T_c7ed0bb9_9a31_11eb_9dbd_0c9d92808ca1row0_col2\" class=\"data row0 col2\" >28.373005</td>\n",
       "                        <td id=\"T_c7ed0bb9_9a31_11eb_9dbd_0c9d92808ca1row0_col3\" class=\"data row0 col3\" >0.000000</td>\n",
       "                        <td id=\"T_c7ed0bb9_9a31_11eb_9dbd_0c9d92808ca1row0_col4\" class=\"data row0 col4\" >51.000000</td>\n",
       "                        <td id=\"T_c7ed0bb9_9a31_11eb_9dbd_0c9d92808ca1row0_col5\" class=\"data row0 col5\" >71.000000</td>\n",
       "                        <td id=\"T_c7ed0bb9_9a31_11eb_9dbd_0c9d92808ca1row0_col6\" class=\"data row0 col6\" >85.000000</td>\n",
       "                        <td id=\"T_c7ed0bb9_9a31_11eb_9dbd_0c9d92808ca1row0_col7\" class=\"data row0 col7\" >284.200000</td>\n",
       "            </tr>\n",
       "            <tr>\n",
       "                        <th id=\"T_c7ed0bb9_9a31_11eb_9dbd_0c9d92808ca1level0_row1\" class=\"row_heading level0 row1\" >2</th>\n",
       "                        <td id=\"T_c7ed0bb9_9a31_11eb_9dbd_0c9d92808ca1row1_col0\" class=\"data row1 col0\" >8068.000000</td>\n",
       "                        <td id=\"T_c7ed0bb9_9a31_11eb_9dbd_0c9d92808ca1row1_col1\" class=\"data row1 col1\" >73.582276</td>\n",
       "                        <td id=\"T_c7ed0bb9_9a31_11eb_9dbd_0c9d92808ca1row1_col2\" class=\"data row1 col2\" >30.092552</td>\n",
       "                        <td id=\"T_c7ed0bb9_9a31_11eb_9dbd_0c9d92808ca1row1_col3\" class=\"data row1 col3\" >0.000000</td>\n",
       "                        <td id=\"T_c7ed0bb9_9a31_11eb_9dbd_0c9d92808ca1row1_col4\" class=\"data row1 col4\" >56.000000</td>\n",
       "                        <td id=\"T_c7ed0bb9_9a31_11eb_9dbd_0c9d92808ca1row1_col5\" class=\"data row1 col5\" >75.000000</td>\n",
       "                        <td id=\"T_c7ed0bb9_9a31_11eb_9dbd_0c9d92808ca1row1_col6\" class=\"data row1 col6\" >87.300000</td>\n",
       "                        <td id=\"T_c7ed0bb9_9a31_11eb_9dbd_0c9d92808ca1row1_col7\" class=\"data row1 col7\" >284.200000</td>\n",
       "            </tr>\n",
       "            <tr>\n",
       "                        <th id=\"T_c7ed0bb9_9a31_11eb_9dbd_0c9d92808ca1level0_row2\" class=\"row_heading level0 row2\" >3</th>\n",
       "                        <td id=\"T_c7ed0bb9_9a31_11eb_9dbd_0c9d92808ca1row2_col0\" class=\"data row2 col0\" >9794.000000</td>\n",
       "                        <td id=\"T_c7ed0bb9_9a31_11eb_9dbd_0c9d92808ca1row2_col1\" class=\"data row2 col1\" >80.679646</td>\n",
       "                        <td id=\"T_c7ed0bb9_9a31_11eb_9dbd_0c9d92808ca1row2_col2\" class=\"data row2 col2\" >63.101354</td>\n",
       "                        <td id=\"T_c7ed0bb9_9a31_11eb_9dbd_0c9d92808ca1row2_col3\" class=\"data row2 col3\" >-6.380000</td>\n",
       "                        <td id=\"T_c7ed0bb9_9a31_11eb_9dbd_0c9d92808ca1row2_col4\" class=\"data row2 col4\" >62.000000</td>\n",
       "                        <td id=\"T_c7ed0bb9_9a31_11eb_9dbd_0c9d92808ca1row2_col5\" class=\"data row2 col5\" >79.200000</td>\n",
       "                        <td id=\"T_c7ed0bb9_9a31_11eb_9dbd_0c9d92808ca1row2_col6\" class=\"data row2 col6\" >95.692500</td>\n",
       "                        <td id=\"T_c7ed0bb9_9a31_11eb_9dbd_0c9d92808ca1row2_col7\" class=\"data row2 col7\" >5400.000000</td>\n",
       "            </tr>\n",
       "            <tr>\n",
       "                        <th id=\"T_c7ed0bb9_9a31_11eb_9dbd_0c9d92808ca1level0_row3\" class=\"row_heading level0 row3\" >4</th>\n",
       "                        <td id=\"T_c7ed0bb9_9a31_11eb_9dbd_0c9d92808ca1row3_col0\" class=\"data row3 col0\" >11089.000000</td>\n",
       "                        <td id=\"T_c7ed0bb9_9a31_11eb_9dbd_0c9d92808ca1row3_col1\" class=\"data row3 col1\" >100.380790</td>\n",
       "                        <td id=\"T_c7ed0bb9_9a31_11eb_9dbd_0c9d92808ca1row3_col2\" class=\"data row3 col2\" >38.193729</td>\n",
       "                        <td id=\"T_c7ed0bb9_9a31_11eb_9dbd_0c9d92808ca1row3_col3\" class=\"data row3 col3\" >0.000000</td>\n",
       "                        <td id=\"T_c7ed0bb9_9a31_11eb_9dbd_0c9d92808ca1row3_col4\" class=\"data row3 col4\" >77.000000</td>\n",
       "                        <td id=\"T_c7ed0bb9_9a31_11eb_9dbd_0c9d92808ca1row3_col5\" class=\"data row3 col5\" >96.300000</td>\n",
       "                        <td id=\"T_c7ed0bb9_9a31_11eb_9dbd_0c9d92808ca1row3_col6\" class=\"data row3 col6\" >119.000000</td>\n",
       "                        <td id=\"T_c7ed0bb9_9a31_11eb_9dbd_0c9d92808ca1row3_col7\" class=\"data row3 col7\" >336.000000</td>\n",
       "            </tr>\n",
       "            <tr>\n",
       "                        <th id=\"T_c7ed0bb9_9a31_11eb_9dbd_0c9d92808ca1level0_row4\" class=\"row_heading level0 row4\" >5</th>\n",
       "                        <td id=\"T_c7ed0bb9_9a31_11eb_9dbd_0c9d92808ca1row4_col0\" class=\"data row4 col0\" >11791.000000</td>\n",
       "                        <td id=\"T_c7ed0bb9_9a31_11eb_9dbd_0c9d92808ca1row4_col1\" class=\"data row4 col1\" >108.695516</td>\n",
       "                        <td id=\"T_c7ed0bb9_9a31_11eb_9dbd_0c9d92808ca1row4_col2\" class=\"data row4 col2\" >42.875641</td>\n",
       "                        <td id=\"T_c7ed0bb9_9a31_11eb_9dbd_0c9d92808ca1row4_col3\" class=\"data row4 col3\" >0.000000</td>\n",
       "                        <td id=\"T_c7ed0bb9_9a31_11eb_9dbd_0c9d92808ca1row4_col4\" class=\"data row4 col4\" >80.100000</td>\n",
       "                        <td id=\"T_c7ed0bb9_9a31_11eb_9dbd_0c9d92808ca1row4_col5\" class=\"data row4 col5\" >108.000000</td>\n",
       "                        <td id=\"T_c7ed0bb9_9a31_11eb_9dbd_0c9d92808ca1row4_col6\" class=\"data row4 col6\" >132.600000</td>\n",
       "                        <td id=\"T_c7ed0bb9_9a31_11eb_9dbd_0c9d92808ca1row4_col7\" class=\"data row4 col7\" >510.000000</td>\n",
       "            </tr>\n",
       "            <tr>\n",
       "                        <th id=\"T_c7ed0bb9_9a31_11eb_9dbd_0c9d92808ca1level0_row5\" class=\"row_heading level0 row5\" >6</th>\n",
       "                        <td id=\"T_c7ed0bb9_9a31_11eb_9dbd_0c9d92808ca1row5_col0\" class=\"data row5 col0\" >10939.000000</td>\n",
       "                        <td id=\"T_c7ed0bb9_9a31_11eb_9dbd_0c9d92808ca1row5_col1\" class=\"data row5 col1\" >116.672192</td>\n",
       "                        <td id=\"T_c7ed0bb9_9a31_11eb_9dbd_0c9d92808ca1row5_col2\" class=\"data row5 col2\" >38.773671</td>\n",
       "                        <td id=\"T_c7ed0bb9_9a31_11eb_9dbd_0c9d92808ca1row5_col3\" class=\"data row5 col3\" >0.000000</td>\n",
       "                        <td id=\"T_c7ed0bb9_9a31_11eb_9dbd_0c9d92808ca1row5_col4\" class=\"data row5 col4\" >92.000000</td>\n",
       "                        <td id=\"T_c7ed0bb9_9a31_11eb_9dbd_0c9d92808ca1row5_col5\" class=\"data row5 col5\" >115.000000</td>\n",
       "                        <td id=\"T_c7ed0bb9_9a31_11eb_9dbd_0c9d92808ca1row5_col6\" class=\"data row5 col6\" >135.000000</td>\n",
       "                        <td id=\"T_c7ed0bb9_9a31_11eb_9dbd_0c9d92808ca1row5_col7\" class=\"data row5 col7\" >333.670000</td>\n",
       "            </tr>\n",
       "            <tr>\n",
       "                        <th id=\"T_c7ed0bb9_9a31_11eb_9dbd_0c9d92808ca1level0_row6\" class=\"row_heading level0 row6\" >7</th>\n",
       "                        <td id=\"T_c7ed0bb9_9a31_11eb_9dbd_0c9d92808ca1row6_col0\" class=\"data row6 col0\" >12661.000000</td>\n",
       "                        <td id=\"T_c7ed0bb9_9a31_11eb_9dbd_0c9d92808ca1row6_col1\" class=\"data row6 col1\" >126.788013</td>\n",
       "                        <td id=\"T_c7ed0bb9_9a31_11eb_9dbd_0c9d92808ca1row6_col2\" class=\"data row6 col2\" >52.064455</td>\n",
       "                        <td id=\"T_c7ed0bb9_9a31_11eb_9dbd_0c9d92808ca1row6_col3\" class=\"data row6 col3\" >0.000000</td>\n",
       "                        <td id=\"T_c7ed0bb9_9a31_11eb_9dbd_0c9d92808ca1row6_col4\" class=\"data row6 col4\" >90.000000</td>\n",
       "                        <td id=\"T_c7ed0bb9_9a31_11eb_9dbd_0c9d92808ca1row6_col5\" class=\"data row6 col5\" >118.100000</td>\n",
       "                        <td id=\"T_c7ed0bb9_9a31_11eb_9dbd_0c9d92808ca1row6_col6\" class=\"data row6 col6\" >155.100000</td>\n",
       "                        <td id=\"T_c7ed0bb9_9a31_11eb_9dbd_0c9d92808ca1row6_col7\" class=\"data row6 col7\" >508.000000</td>\n",
       "            </tr>\n",
       "            <tr>\n",
       "                        <th id=\"T_c7ed0bb9_9a31_11eb_9dbd_0c9d92808ca1level0_row7\" class=\"row_heading level0 row7\" >8</th>\n",
       "                        <td id=\"T_c7ed0bb9_9a31_11eb_9dbd_0c9d92808ca1row7_col0\" class=\"data row7 col0\" >13877.000000</td>\n",
       "                        <td id=\"T_c7ed0bb9_9a31_11eb_9dbd_0c9d92808ca1row7_col1\" class=\"data row7 col1\" >140.111523</td>\n",
       "                        <td id=\"T_c7ed0bb9_9a31_11eb_9dbd_0c9d92808ca1row7_col2\" class=\"data row7 col2\" >61.657384</td>\n",
       "                        <td id=\"T_c7ed0bb9_9a31_11eb_9dbd_0c9d92808ca1row7_col3\" class=\"data row7 col3\" >0.000000</td>\n",
       "                        <td id=\"T_c7ed0bb9_9a31_11eb_9dbd_0c9d92808ca1row7_col4\" class=\"data row7 col4\" >95.000000</td>\n",
       "                        <td id=\"T_c7ed0bb9_9a31_11eb_9dbd_0c9d92808ca1row7_col5\" class=\"data row7 col5\" >130.500000</td>\n",
       "                        <td id=\"T_c7ed0bb9_9a31_11eb_9dbd_0c9d92808ca1row7_col6\" class=\"data row7 col6\" >180.000000</td>\n",
       "                        <td id=\"T_c7ed0bb9_9a31_11eb_9dbd_0c9d92808ca1row7_col7\" class=\"data row7 col7\" >450.000000</td>\n",
       "            </tr>\n",
       "            <tr>\n",
       "                        <th id=\"T_c7ed0bb9_9a31_11eb_9dbd_0c9d92808ca1level0_row8\" class=\"row_heading level0 row8\" >9</th>\n",
       "                        <td id=\"T_c7ed0bb9_9a31_11eb_9dbd_0c9d92808ca1row8_col0\" class=\"data row8 col0\" >10508.000000</td>\n",
       "                        <td id=\"T_c7ed0bb9_9a31_11eb_9dbd_0c9d92808ca1row8_col1\" class=\"data row8 col1\" >105.049657</td>\n",
       "                        <td id=\"T_c7ed0bb9_9a31_11eb_9dbd_0c9d92808ca1row8_col2\" class=\"data row8 col2\" >43.004095</td>\n",
       "                        <td id=\"T_c7ed0bb9_9a31_11eb_9dbd_0c9d92808ca1row8_col3\" class=\"data row8 col3\" >0.000000</td>\n",
       "                        <td id=\"T_c7ed0bb9_9a31_11eb_9dbd_0c9d92808ca1row8_col4\" class=\"data row8 col4\" >74.897500</td>\n",
       "                        <td id=\"T_c7ed0bb9_9a31_11eb_9dbd_0c9d92808ca1row8_col5\" class=\"data row8 col5\" >100.300000</td>\n",
       "                        <td id=\"T_c7ed0bb9_9a31_11eb_9dbd_0c9d92808ca1row8_col6\" class=\"data row8 col6\" >130.000000</td>\n",
       "                        <td id=\"T_c7ed0bb9_9a31_11eb_9dbd_0c9d92808ca1row8_col7\" class=\"data row8 col7\" >345.000000</td>\n",
       "            </tr>\n",
       "            <tr>\n",
       "                        <th id=\"T_c7ed0bb9_9a31_11eb_9dbd_0c9d92808ca1level0_row9\" class=\"row_heading level0 row9\" >10</th>\n",
       "                        <td id=\"T_c7ed0bb9_9a31_11eb_9dbd_0c9d92808ca1row9_col0\" class=\"data row9 col0\" >11160.000000</td>\n",
       "                        <td id=\"T_c7ed0bb9_9a31_11eb_9dbd_0c9d92808ca1row9_col1\" class=\"data row9 col1\" >87.908879</td>\n",
       "                        <td id=\"T_c7ed0bb9_9a31_11eb_9dbd_0c9d92808ca1row9_col2\" class=\"data row9 col2\" >36.281047</td>\n",
       "                        <td id=\"T_c7ed0bb9_9a31_11eb_9dbd_0c9d92808ca1row9_col3\" class=\"data row9 col3\" >0.000000</td>\n",
       "                        <td id=\"T_c7ed0bb9_9a31_11eb_9dbd_0c9d92808ca1row9_col4\" class=\"data row9 col4\" >62.000000</td>\n",
       "                        <td id=\"T_c7ed0bb9_9a31_11eb_9dbd_0c9d92808ca1row9_col5\" class=\"data row9 col5\" >85.670000</td>\n",
       "                        <td id=\"T_c7ed0bb9_9a31_11eb_9dbd_0c9d92808ca1row9_col6\" class=\"data row9 col6\" >109.650000</td>\n",
       "                        <td id=\"T_c7ed0bb9_9a31_11eb_9dbd_0c9d92808ca1row9_col7\" class=\"data row9 col7\" >300.000000</td>\n",
       "            </tr>\n",
       "            <tr>\n",
       "                        <th id=\"T_c7ed0bb9_9a31_11eb_9dbd_0c9d92808ca1level0_row10\" class=\"row_heading level0 row10\" >11</th>\n",
       "                        <td id=\"T_c7ed0bb9_9a31_11eb_9dbd_0c9d92808ca1row10_col0\" class=\"data row10 col0\" >6794.000000</td>\n",
       "                        <td id=\"T_c7ed0bb9_9a31_11eb_9dbd_0c9d92808ca1row10_col1\" class=\"data row10 col1\" >73.794962</td>\n",
       "                        <td id=\"T_c7ed0bb9_9a31_11eb_9dbd_0c9d92808ca1row10_col2\" class=\"data row10 col2\" >33.313240</td>\n",
       "                        <td id=\"T_c7ed0bb9_9a31_11eb_9dbd_0c9d92808ca1row10_col3\" class=\"data row10 col3\" >0.000000</td>\n",
       "                        <td id=\"T_c7ed0bb9_9a31_11eb_9dbd_0c9d92808ca1row10_col4\" class=\"data row10 col4\" >51.840000</td>\n",
       "                        <td id=\"T_c7ed0bb9_9a31_11eb_9dbd_0c9d92808ca1row10_col5\" class=\"data row10 col5\" >73.000000</td>\n",
       "                        <td id=\"T_c7ed0bb9_9a31_11eb_9dbd_0c9d92808ca1row10_col6\" class=\"data row10 col6\" >90.000000</td>\n",
       "                        <td id=\"T_c7ed0bb9_9a31_11eb_9dbd_0c9d92808ca1row10_col7\" class=\"data row10 col7\" >260.000000</td>\n",
       "            </tr>\n",
       "            <tr>\n",
       "                        <th id=\"T_c7ed0bb9_9a31_11eb_9dbd_0c9d92808ca1level0_row11\" class=\"row_heading level0 row11\" >12</th>\n",
       "                        <td id=\"T_c7ed0bb9_9a31_11eb_9dbd_0c9d92808ca1row11_col0\" class=\"data row11 col0\" >6780.000000</td>\n",
       "                        <td id=\"T_c7ed0bb9_9a31_11eb_9dbd_0c9d92808ca1row11_col1\" class=\"data row11 col1\" >81.076776</td>\n",
       "                        <td id=\"T_c7ed0bb9_9a31_11eb_9dbd_0c9d92808ca1row11_col2\" class=\"data row11 col2\" >42.731774</td>\n",
       "                        <td id=\"T_c7ed0bb9_9a31_11eb_9dbd_0c9d92808ca1row11_col3\" class=\"data row11 col3\" >0.000000</td>\n",
       "                        <td id=\"T_c7ed0bb9_9a31_11eb_9dbd_0c9d92808ca1row11_col4\" class=\"data row11 col4\" >58.275000</td>\n",
       "                        <td id=\"T_c7ed0bb9_9a31_11eb_9dbd_0c9d92808ca1row11_col5\" class=\"data row11 col5\" >75.000000</td>\n",
       "                        <td id=\"T_c7ed0bb9_9a31_11eb_9dbd_0c9d92808ca1row11_col6\" class=\"data row11 col6\" >96.000000</td>\n",
       "                        <td id=\"T_c7ed0bb9_9a31_11eb_9dbd_0c9d92808ca1row11_col7\" class=\"data row11 col7\" >451.500000</td>\n",
       "            </tr>\n",
       "    </tbody></table>"
      ],
      "text/plain": [
       "<pandas.io.formats.style.Styler at 0x1872cbe4e50>"
      ]
     },
     "execution_count": 87,
     "metadata": {},
     "output_type": "execute_result"
    }
   ],
   "source": [
    "d=data.groupby(['month']).describe().adr\n",
    "cm = sns.light_palette(\"green\", as_cmap=True)\n",
    "d = d.style.background_gradient(cmap=cm)\n",
    "d\n"
   ]
  },
  {
   "cell_type": "code",
   "execution_count": 88,
   "metadata": {},
   "outputs": [
    {
     "data": {
      "text/plain": [
       "(array([48515], dtype=int64),)"
      ]
     },
     "execution_count": 88,
     "metadata": {},
     "output_type": "execute_result"
    }
   ],
   "source": [
    "#the greatest number of bookings falls on summer months. Not surprisingly, summer months are most expensive\n",
    "#The max adr in March looks a way higher than for any other month. Looks like an outlier but let's check the details.\n",
    "np.where(data['adr']==5400)"
   ]
  },
  {
   "cell_type": "code",
   "execution_count": 89,
   "metadata": {},
   "outputs": [
    {
     "data": {
      "text/plain": [
       "hotel                                City Hotel\n",
       "is_canceled                                   1\n",
       "lead_time                                    35\n",
       "arrival_date_year                          2016\n",
       "arrival_date_month                        March\n",
       "arrival_date_week_number                     13\n",
       "arrival_date_day_of_month                    25\n",
       "stays_in_weekend_nights                       0\n",
       "stays_in_week_nights                          1\n",
       "adults                                        2\n",
       "children                                      0\n",
       "babies                                        0\n",
       "meal                                         BB\n",
       "country                                     PRT\n",
       "market_segment                    Offline TA/TO\n",
       "distribution_channel                      TA/TO\n",
       "is_repeated_guest                             0\n",
       "previous_cancellations                        0\n",
       "previous_bookings_not_canceled                0\n",
       "reserved_room_type                            A\n",
       "assigned_room_type                            A\n",
       "booking_changes                               1\n",
       "deposit_type                         Non Refund\n",
       "agent                                        12\n",
       "company                                     NaN\n",
       "days_in_waiting_list                          0\n",
       "customer_type                         Transient\n",
       "adr                                        5400\n",
       "required_car_parking_spaces                   0\n",
       "total_of_special_requests                     0\n",
       "reservation_status                     Canceled\n",
       "reservation_status_date              2016-02-19\n",
       "month                                         3\n",
       "Name: 48515, dtype: object"
      ]
     },
     "execution_count": 89,
     "metadata": {},
     "output_type": "execute_result"
    }
   ],
   "source": [
    "#details of the booking for the adr =5400 below.\n",
    "data.loc[48515]"
   ]
  },
  {
   "cell_type": "code",
   "execution_count": 90,
   "metadata": {},
   "outputs": [
    {
     "data": {
      "text/plain": [
       "PRT    48590\n",
       "GBR    12129\n",
       "FRA    10415\n",
       "ESP     8568\n",
       "DEU     7287\n",
       "ITA     3766\n",
       "IRL     3375\n",
       "BEL     2342\n",
       "BRA     2224\n",
       "NLD     2104\n",
       "Name: country, dtype: int64"
      ]
     },
     "execution_count": 90,
     "metadata": {},
     "output_type": "execute_result"
    }
   ],
   "source": [
    "#Find countries with greatest no of bookings:\n",
    "top_booking_countries=data.country.value_counts()\n",
    "top_booking_countries.head(10)"
   ]
  },
  {
   "cell_type": "code",
   "execution_count": 91,
   "metadata": {},
   "outputs": [
    {
     "data": {
      "text/plain": [
       "<matplotlib.axes._subplots.AxesSubplot at 0x1872e0bbee0>"
      ]
     },
     "execution_count": 91,
     "metadata": {},
     "output_type": "execute_result"
    },
    {
     "data": {
      "image/png": "[encoded data removed]",
      "text/plain": [
       "<Figure size 432x288 with 1 Axes>"
      ]
     },
     "metadata": {
      "needs_background": "light"
     },
     "output_type": "display_data"
    }
   ],
   "source": [
    "#Find countries with the greatest number of visitors (here:adult visitors)\n",
    "Top_visitor_countries = data[['adults','country']].groupby([\"country\"]).sum().reset_index()\n",
    "Top=Top_visitor_countries.sort_values(by='adults', ascending=False)\n",
    "Top_10_visitor_countries=Top.head(10)\n",
    "sns.pointplot(x='country', y='adults', data=Top_10_visitor_countries)\n"
   ]
  },
  {
   "cell_type": "code",
   "execution_count": 92,
   "metadata": {},
   "outputs": [
    {
     "data": {
      "text/plain": [
       "Text(0.5, 1.0, 'Number of bookings by hotel')"
      ]
     },
     "execution_count": 92,
     "metadata": {},
     "output_type": "execute_result"
    },
    {
     "data": {
      "image/png": "[encoded data removed]",
      "text/plain": [
       "<Figure size 1080x288 with 1 Axes>"
      ]
     },
     "metadata": {
      "needs_background": "light"
     },
     "output_type": "display_data"
    }
   ],
   "source": [
    "#which hotel is the most popular. Bookings by year:\n",
    "\n",
    "plt.figure(figsize=(15, 4))\n",
    "sns.countplot(x='arrival_date_year', hue= 'hotel', data=data, palette='mako')\n",
    "plt.title(\"Number of bookings by hotel\",fontweight=\"bold\", size=15)"
   ]
  },
  {
   "cell_type": "code",
   "execution_count": 93,
   "metadata": {
    "scrolled": true
   },
   "outputs": [
    {
     "data": {
      "text/plain": [
       "Text(0.5, 1.0, 'Hotel popularity by month')"
      ]
     },
     "execution_count": 93,
     "metadata": {},
     "output_type": "execute_result"
    },
    {
     "data": {
      "image/png": "[encoded data removed]",
      "text/plain": [
       "<Figure size 1080x288 with 1 Axes>"
      ]
     },
     "metadata": {
      "needs_background": "light"
     },
     "output_type": "display_data"
    }
   ],
   "source": [
    "#how do the bookings change depending on month for each hotel?\n",
    "plt.figure(figsize=(15, 4))\n",
    "sns.countplot(x='month', hue= 'hotel', data=data, palette='rocket')\n",
    "plt.title(\"Hotel popularity by month\",fontweight=\"bold\", size=15)"
   ]
  },
  {
   "cell_type": "code",
   "execution_count": 94,
   "metadata": {},
   "outputs": [
    {
     "data": {
      "text/plain": [
       "Text(0.5, 1.0, 'Hotel popularity by month')"
      ]
     },
     "execution_count": 94,
     "metadata": {},
     "output_type": "execute_result"
    },
    {
     "data": {
      "image/png": "[encoded data removed]",
      "text/plain": [
       "<Figure size 1080x288 with 1 Axes>"
      ]
     },
     "metadata": {
      "needs_background": "light"
     },
     "output_type": "display_data"
    }
   ],
   "source": [
    "#let's see the number of cancellations (1) vs non-cancelled bookings (0)\n",
    "plt.figure(figsize=(15, 4))\n",
    "sns.countplot(x='hotel', hue= 'is_canceled', data=data, palette='mako')\n",
    "plt.title(\"Hotel popularity by month\",fontweight=\"bold\", size=15)"
   ]
  },
  {
   "cell_type": "code",
   "execution_count": 95,
   "metadata": {},
   "outputs": [
    {
     "data": {
      "image/png": "[encoded data removed]",
      "text/plain": [
       "<Figure size 432x288 with 1 Axes>"
      ]
     },
     "metadata": {
      "needs_background": "light"
     },
     "output_type": "display_data"
    }
   ],
   "source": [
    "#lead time vs cancellations\n",
    "\n",
    "sns.boxplot(x=data[\"is_canceled\"], y=data[\"lead_time\"]);\n",
    "plt.show()\n",
    "# looks like the bookings were typically less likely to be cancelled if booked closer to arrival date"
   ]
  },
  {
   "cell_type": "code",
   "execution_count": 96,
   "metadata": {},
   "outputs": [
    {
     "data": {
      "application/vnd.jupyter.widget-view+json": {
       "model_id": "91a5882f558d4a3393df4f8ab168927f",
       "version_major": 2,
       "version_minor": 0
      },
      "text/plain": [
       "VBox(children=(Figure(axes=[Axis(label='lead_time', scale=LinearScale()), Axis(label='adr', orientation='verti…"
      ]
     },
     "metadata": {},
     "output_type": "display_data"
    }
   ],
   "source": [
    "# Let's check whether average daily rate for August depended on how much earlier the booking was made\n",
    "data_Aug = data.loc[data['month'] == 8]\n",
    "from bqplot import pyplot as plt\n",
    "fig = plt.figure()\n",
    "fig.layout.height = \"300px\"\n",
    "fig.layout.width = \"500px\"\n",
    "plt.scatter(data_Aug.lead_time, data_Aug.adr)\n",
    "plt.xlabel(\"lead_time\")\n",
    "plt.ylabel(\"adr\")\n",
    "plt.show()\n",
    "#conclusion: there doesn't seem to be a relation between adr and lead time for Aug"
   ]
  },
  {
   "cell_type": "code",
   "execution_count": null,
   "metadata": {},
   "outputs": [],
   "source": []
  }
 ],
 "metadata": {
  "kernelspec": {
   "display_name": "Python 3",
   "language": "python",
   "name": "python3"
  },
  "language_info": {
   "codemirror_mode": {
    "name": "ipython",
    "version": 3
   },
   "file_extension": ".py",
   "mimetype": "text/x-python",
   "name": "python",
   "nbconvert_exporter": "python",
   "pygments_lexer": "ipython3",
   "version": "3.8.3"
  }
 },
 "nbformat": 4,
 "nbformat_minor": 4
}
